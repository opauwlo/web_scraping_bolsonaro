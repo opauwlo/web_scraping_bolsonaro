{
 "metadata": {
  "language_info": {
   "codemirror_mode": {
    "name": "ipython",
    "version": 3
   },
   "file_extension": ".py",
   "mimetype": "text/x-python",
   "name": "python",
   "nbconvert_exporter": "python",
   "pygments_lexer": "ipython3",
   "version": "3.8.5-final"
  },
  "orig_nbformat": 2,
  "kernelspec": {
   "name": "python385jvsc74a57bd06e6c1b58646ab58917c00d78914e9ad9d92ced5d335ace731e1d7dc3a65d33c7",
   "display_name": "Python 3.8.5 64-bit ('base': conda)"
  }
 },
 "nbformat": 4,
 "nbformat_minor": 2,
 "cells": [
  {
   "cell_type": "code",
   "execution_count": 1,
   "metadata": {},
   "outputs": [],
   "source": [
    "import os\n",
    "import json\n",
    "import requests\n",
    "from bs4 import BeautifulSoup"
   ]
  },
  {
   "cell_type": "code",
   "execution_count": 2,
   "metadata": {},
   "outputs": [],
   "source": [
    "BASE_URL = \"https://www.gov.br/planalto/pt-br/acompanhe-o-planalto/pronunciamentos/pronunciamentos-do-presidente-da-republica\"\n",
    "DATA_DIR = \"./pronunciamentos\""
   ]
  },
  {
   "cell_type": "code",
   "execution_count": 3,
   "metadata": {},
   "outputs": [],
   "source": [
    "resposta = requests.get(BASE_URL)\n",
    "bs = BeautifulSoup(resposta.text)\n",
    "articles = bs.find_all(\"article\")"
   ]
  },
  {
   "cell_type": "code",
   "execution_count": 4,
   "metadata": {},
   "outputs": [],
   "source": [
    "def data_canonica(datestr):\n",
    "    return \"\".join(reversed(datestr.split(\"/\")))"
   ]
  },
  {
   "cell_type": "code",
   "execution_count": 5,
   "metadata": {},
   "outputs": [],
   "source": [
    "class Pronouncement:\n",
    "    def __init__(self, bs_article=None):\n",
    "\n",
    "        if bs_article is not None:\n",
    "\n",
    "            self.url = bs_article.find(class_=\"summary url\")[\"href\"]\n",
    "            self.tags = [t.text for t in bs_article.find_all(rel=\"tag\")]\n",
    "\n",
    "            datetime = bs_article.find_all(class_=\"summary-view-icon\")\n",
    "            self.date = data_canonica(datetime[0].text.strip())\n",
    "            self.time = datetime[1].text.strip()\n",
    "\n",
    "            self.text = self._extract_text()\n",
    "\n",
    "    def _extract_text(self):\n",
    "        \n",
    "        r = requests.get(self.url)\n",
    "        bs =BeautifulSoup(r.text)\n",
    "\n",
    "        return bs.find(id=\"parent-fieldname-text\").text.strip()\n",
    "\n",
    "    def save_tojson(p, savedir, name=None):\n",
    "\n",
    "        if name is None:\n",
    "            name = f\"{p.date}-{p.time}.json\"\n",
    "        path = os.path.join(savedir, name)\n",
    "        with open(path, \"w\") as jsonfile:\n",
    "            json.dump(p.__dict__, jsonfile)\n",
    "\n",
    "    def load_fromjson(filepath):\n",
    "\n",
    "        with open(filepath) as jsonfile:\n",
    "            data = json.load(jsonfile)\n",
    "            p = Pronouncement()\n",
    "            p.date = data[\"date\"]\n",
    "            p.time = data[\"time\"]\n",
    "            p.tags = data[\"tags\"]\n",
    "            p.url = data[\"url\"]\n",
    "            p.text = data[\"text\"]\n",
    "\n",
    "            return p\n"
   ]
  },
  {
   "cell_type": "code",
   "execution_count": 6,
   "metadata": {},
   "outputs": [],
   "source": [
    "pronouncements = [Pronouncement(art) for art in articles]"
   ]
  },
  {
   "cell_type": "code",
   "execution_count": 7,
   "metadata": {},
   "outputs": [],
   "source": [
    "for p in pronouncements:\n",
    "    Pronouncement.save_tojson(p, DATA_DIR)"
   ]
  },
  {
   "cell_type": "code",
   "execution_count": 8,
   "metadata": {},
   "outputs": [],
   "source": [
    "filenames = os.listdir(DATA_DIR)\n",
    "list_pronoucement = []"
   ]
  },
  {
   "cell_type": "code",
   "execution_count": 9,
   "metadata": {},
   "outputs": [],
   "source": [
    "for name in filenames:\n",
    "    path = os.path.join(DATA_DIR, name)\n",
    "    list_pronoucement.append(Pronouncement.load_fromjson(path))\n"
   ]
  },
  {
   "cell_type": "code",
   "execution_count": 10,
   "metadata": {},
   "outputs": [
    {
     "output_type": "stream",
     "name": "stdout",
     "text": [
      "\n\nBoa noite.\nVenho nesse momento importante me dirigir a todos vocês.\nDesde o início do governo temos trabalhado em todas as frentes para sanar problemas históricos e melhorar a vida das pessoas. O Brasil avançou muito nestes 15 meses, mas agora estamos diante do maior desafio da nossa geração.\nMinha preocupação sempre foi salvar vidas, tanto as que perderemos pela pandemia quanto aquelas que serão atingidas pelo desemprego, violência e fome.\nMe coloco no lugar das pessoas e entendo suas angústias. As medidas protetivas devem ser implementadas de forma racional, responsável e coordenada.\nNesse sentido, o Sr. Tedros Adhanom, diretor-geral da Organização Mundial da Saúde, disse saber que “muitas pessoas, de fato, têm que trabalhar todos os dias para ganhar seu pão diário” e que “os governos têm que levar esta população em conta”.\nContinua ainda, “se fecharmos ou limitarmos movimentações, o que acontecerá com estas pessoas, que têm que trabalhar todos os dias e que têm que ganhar o pão de cada dia todos os dias?” Ele prossegue, “Então, cada país, baseado em sua situação, deveria responder a esta questão”.\nO diretor da OMS afirma ainda que, com relação a cada medida, “temos que ver o que significa para o indivíduo nas ruas” e complementa “eu venho de família pobre, eu sei o que significa estar sempre preocupado com seu pão diário e isso deve ser levado em conta porque todo indivíduo importa. A maneira como cada indivíduo é afetado pelas nossas ações tem que ser considerada”.\nNão me valho dessas palavras para negar a importância das medidas de prevenção e controle da pandemia, mas para mostrar que da mesma forma precisamos pensar nos mais vulneráveis. Esta tem sido a minha preocupação desde o princípio.\nO que será do camelô, do ambulante, do vendedor de churrasquinho, da diarista, do ajudante de pedreiro, do caminhoneiro e dos outros autônomos com quem venho mantendo contato durante toda minha vida pública?\nPor isso determinei ao nosso Ministro da Saúde que não poupasse esforços, apoiando através do SUS todos os estados do Brasil aumentando a capacidade da rede de saúde e preparando-a para o combate à pandemia.\nAssim, estão sendo adquiridos novos leitos já com respiradores, equipamentos de proteção individual, kits para testes e demais insumos necessários.\nDeterminei ainda ao nosso Ministro da Economia que adotasse todas as medidas possíveis para proteger sobretudo o emprego e a renda dos brasileiros.\nFizemos isso através de ajuda financeira aos estados e municípios, linhas de crédito para empresas, auxílio mensal de R$ 600 aos trabalhadores informais e vulneráveis, entrada de mais 1 milhão e 200 mil famílias no programa Bolsa Família, adiamos também o pagamento de dívidas dos estados e municípios, só para citar algumas das medidas adotadas.\nAlém disso, no dia de hoje, em comum acordo com a indústria farmacêutica, decidimos adiar, por 60 dias, o reajuste de medicamentos no Brasil.\nTemos uma missão: salvar vidas, sem deixar para trás os empregos.\nPor um lado, temos que ter cautela e precaução com todos, principalmente junto aos mais idosos e portadores de doenças preexistentes.\nPor outro, temos que combater o desemprego, que cresce rapidamente, em especial entre os mais pobres.\nVamos cumprir essa missão ao mesmo tempo em que cuidamos da saúde das pessoas.\nO vírus é uma realidade, ainda não existe vacina contra ele ou remédio com eficiência cientificamente comprovada, apesar da hidroxicloroquina parecer bastante eficaz.\nO coronavírus veio e um dia irá embora, infelizmente teremos perdas neste caminho. Eu mesmo já perdi entes queridos no passado e sei o quanto é doloroso. Todos nós temos que evitar ao máximo qualquer perda de vida humana. Como disse o diretor-geral da OMS, “todo indivíduo importa”.\nAo mesmo tempo, devemos evitar a destruição de empregos, que já vem trazendo muito sofrimento para os trabalhadores brasileiros.\nNa última reunião do G-20, nós, os Chefes de Estado e de Governo, nos comprometemos a proteger vidas e a preservar empregos. Assim o farei.\nDesde fevereiro, determinei o emprego das Forças Armadas no combate ao coronavírus. O Ministério da Defesa realizou o resgate de brasileiros na China. Agora as Forças Armadas atuam em apoio às áreas de Saúde e Segurança, em todo o Brasil. Foi ativado um Centro de Operações que coordena as ações e 10 Comandos Conjuntos foram criados, cobrindo todo o território nacional. Realizam ações que vão desde a montagem de postos de triagem de pacientes, apoio a campanhas informativas e campanhas de vacinação, logística e transporte de medicamentos. Os Laboratórios Químico- Farmacêuticos Militares entraram com força total e, em 12 dias, serão produzidos um milhão de comprimidos de Cloroquina, além de álcool gel.\nRepito: o efeito colateral das medidas de combate ao coronavírus não pode ser pior do que a própria doença.\nA minha obrigação como presidente vai para além dos próximos meses. Preparar o Brasil para a sua retomada, reorganizar nossa economia e mobilizar todos os nossos recursos e energia para tornar o Brasil ainda mais forte após a pandemia.\nAproveito a oportunidade para me solidarizar e agradecer o empenho e sacrífico pessoal de todos os profissionais de saúde, da área de segurança, caminhoneiros e todos os trabalhadores de serviços considerados essenciais que estão mantendo o país funcionando, bem como aos homens e mulheres do campo que produzem nossos alimentos.\nCom este mesmo espírito agradeço e reafirmo a importância da colaboração e a necessária união de todos num grande pacto pela preservação da vida e dos empregos: parlamento, judiciário, governadores, prefeitos e sociedade.\nDeus abençoe o nosso amado Brasil.\n\n\n=======================================================\n\n\nBrasília-DF, 23 de agosto de 2019\nBoa noite. Dirijo-me a todos para tratar da nossa Amazônia que, nas últimas semanas, tem atraído crescente atenção do Brasil e do mundo.\n          A Floresta Amazônica é parte essencial da nossa história, do nosso território e de tudo que nos faz sentir ser brasileiro. Nossas riquezas são incalculáveis, tanto em matéria de biodiversidade quanto de recursos naturais.\n          Devido à minha formação militar e à minha trajetória como homem público, tenho profundo amor e respeito pela Amazônia. A proteção da floresta é nosso dever.\n          Estamos cientes disso e atuando para combater o desmatamento ilegal e quaisquer outras atividades criminosas que coloquem a nossa Amazônia em risco. É preciso lembrar que naquela região vivem mais de 20 milhões de brasileiros, que há anos aguardam dinamismo econômico proporcional às riquezas ali existentes.\n          Para proteger a Amazônia não bastam operações de fiscalização, comando e controle. É preciso dar oportunidade a toda essa população, para que se desenvolva junto com o restante do País. É nesse sentido que trabalham todos os órgãos do governo.\n          Somos um governo de tolerância zero com a criminalidade. E na área ambiental não será diferente. Por essa razão, oferecemos ajuda a todos os estados da Amazônia Legal. Com relação a aqueles que a aceitarem, autorizarei operação de Garantia da Lei e da Ordem, uma verdadeira GLO ambiental. O emprego extensivo de pessoal e equipamentos das Forças Armadas, auxiliares e outras agências permitirão não apenas combater as atividades ilegais, como também conter o avanço de queimadas na região.\n          Estamos numa estação tradicionalmente quente, seca e de ventos fortes, em que todos os anos  infelizmente ocorrem queimadas na Região amazônica. Nos anos mais chuvosos as queimadas são menos intensas. Em anos mais quentes, como nesse, 2019, elas ocorrem com maior frequência.\nDe todo modo, mesmo que as queimadas deste ano não estejam fora da média dos últimos 15 anos, não estamos satisfeitos com o que estamos assistindo. Vamos atuar fortemente para controlar os incêndios na Amazônia.\nÉ preciso, por outro lado, ter serenidade ao tratar dessa matéria. Espalhar dados e mensagens infundadas, dentro ou fora do Brasil, não contribui para resolver o problema, e se prestam apenas ao uso político e à desinformação.\n O Brasil é exemplo de sustentabilidade. Conserva mais de 60% de sua vegetação nativa, possui uma lei ambiental moderna e um Código Florestal que deveria servir de modelo para o mundo. Temos uma matriz energética limpa, renovável e com ela estamos dando importante contribuição ao planeta.\n Diversos países desenvolvidos, por outro lado, ainda não conseguiram avançar com seus compromissos no âmbito do Acordo de Paris. Seguimos como sempre abertos ao diálogo, com base no respeito, na verdade e cientes da nossa soberania.\n Outros países se solidarizaram com o Brasil. Ofereceram meios para combater as queimadas, bem como se prontificaram levar a posição brasileira junto ao G7. Incêndios florestais existem em todo o mundo e isso não pode servir pretexto para possíveis sanções internacionais.\n O Brasil continuará sendo, como foi até hoje, um País amigo de todos e responsável pela proteção da sua floresta Amazônica.\nBoa noite.\n\n\n=======================================================\n\n\nSenhoras e Senhores\nBoa noite.\n \nNa data de ontem foi realizada a cerimônia de assinatura da Medida Provisória que trata da Declaração dos Direitos de Liberdade Econômica, cuja finalidade é estabelecer, principalmente, garantias de livre mercado. É uma iniciativa do nosso Ministério da Economia, que restringe o papel do Estado, no controle e na fiscalização da atividade econômica. Está concretizada em direitos considerados essenciais ao crescimento do País, dos quais destaco: desenvolver atividade econômica de baixo risco para o sustento próprio da sua família; produzir, empregar e gerar renda, assegurada a liberdade para o desenvolvimento econômico; não ter restringida, por qualquer autoridade, sua liberdade em definir o preço de produtos e de serviços; receber tratamento igualitário de órgãos e de entidades da Administração Pública, dentre outros.\nEsse é o compromisso do meu governo com a plena liberdade econômica, única maneira de proporcionar, por mérito próprio, e sem a interferência do Estado, o engrandecimento de cada cidadão.\nO caminho é longo. Eu sei que unidos ultrapassaremos essas dificuldades iniciais que são naturais nas transições de governo, especialmente se as concepções políticas forem antagônicas.\nO Brasil elegeu a esperança. Razão pela qual estarei sempre atento para não decepcioná-los. É o meu compromisso com você nesse Dia do Trabalho.\nBoa noite. E que Deus abençoe o nosso Brasil.\n \n \nOuça a íntegra (01min52s) do Pronunciamento do Presidente Jair Bolsonaro\n\n\n=======================================================\n"
     ]
    }
   ],
   "source": [
    "for i in range (2,8,2):\n",
    "    print(\"\\n\")\n",
    "    print(list_pronoucement[i].text)\n",
    "    print(\"\\n\")\n",
    "    print(\"=======================================================\")"
   ]
  },
  {
   "source": [
    "# AREA DE TESTES"
   ],
   "cell_type": "markdown",
   "metadata": {}
  },
  {
   "cell_type": "code",
   "execution_count": 11,
   "metadata": {},
   "outputs": [],
   "source": [
    "resposta = requests.get(BASE_URL)"
   ]
  },
  {
   "cell_type": "code",
   "execution_count": 12,
   "metadata": {},
   "outputs": [
    {
     "output_type": "execute_result",
     "data": {
      "text/plain": [
       "<article class=\"tileItem visualIEFloatFix tile-document\">\n",
       "<div class=\"tileContent\">\n",
       "<h2 class=\"tileHeadline\">\n",
       "<a class=\"summary url\" href=\"https://www.gov.br/planalto/pt-br/acompanhe-o-planalto/pronunciamentos/pronunciamentos-do-presidente-da-republica/pronunciamento-do-presidente-da-republica-jair-bolsonaro-em-cadeia-de-radio-e-televisao-brasilia-df\" title=\"Document\">Pronunciamento do Senhor Presidente da República, Jair Bolsonaro, em cadeia de rádio e televisão</a>\n",
       "</h2>\n",
       "<div class=\"keywords\">\n",
       "              tags:\n",
       "              <span>\n",
       "<a class=\"link-category\" href=\"https://www.gov.br/planalto/@@search?Subject:list=Pronunciamento\" rel=\"nofollow tag\">Pronunciamento</a>\n",
       "</span>\n",
       "<span>\n",
       "<a class=\"link-category\" href=\"https://www.gov.br/planalto/@@search?Subject:list=Presidente\" rel=\"nofollow tag\">Presidente</a>\n",
       "</span>\n",
       "<span>\n",
       "<a class=\"link-category\" href=\"https://www.gov.br/planalto/@@search?Subject:list=Nova Previdência\" rel=\"nofollow tag\">Nova Previdência</a>\n",
       "</span>\n",
       "</div>\n",
       "</div>\n",
       "<span class=\"documentByLine\">\n",
       "<span class=\"hiddenStructure\">\n",
       "                        publicado\n",
       "                    </span>\n",
       "<span class=\"summary-view-icon\">\n",
       "<i class=\"icon-day\"></i>\n",
       "                        20/02/2019\n",
       "                    </span>\n",
       "<span class=\"summary-view-icon\">\n",
       "<i class=\"icon-hour\"></i>\n",
       "                        20h53\n",
       "                    </span>\n",
       "<span class=\"summary-view-icon\">\n",
       "<i class=\"icon-page\"></i>\n",
       "                        Página\n",
       "                    </span>\n",
       "<div class=\"visualClear\"><!-- --></div>\n",
       "</span>\n",
       "</article>"
      ]
     },
     "metadata": {},
     "execution_count": 12
    }
   ],
   "source": [
    "articles[0]"
   ]
  },
  {
   "cell_type": "code",
   "execution_count": 13,
   "metadata": {},
   "outputs": [
    {
     "output_type": "execute_result",
     "data": {
      "text/plain": [
       "17"
      ]
     },
     "metadata": {},
     "execution_count": 13
    }
   ],
   "source": [
    "len(articles)"
   ]
  },
  {
   "cell_type": "code",
   "execution_count": 14,
   "metadata": {},
   "outputs": [],
   "source": [
    "article = articles[0]\n",
    "url = article.find(class_=\"summary url\")\n",
    "tags = article.find_all(rel=\"tag\")\n",
    "datetime = article.find_all(class_=\"summary-view-icon\")"
   ]
  },
  {
   "cell_type": "code",
   "execution_count": 15,
   "metadata": {},
   "outputs": [
    {
     "output_type": "execute_result",
     "data": {
      "text/plain": [
       "['Pronunciamento', 'Presidente', 'Nova Previdência']"
      ]
     },
     "metadata": {},
     "execution_count": 15
    }
   ],
   "source": [
    "tags = [t.text for t in tags]\n",
    "tags"
   ]
  },
  {
   "cell_type": "code",
   "execution_count": 16,
   "metadata": {},
   "outputs": [
    {
     "output_type": "execute_result",
     "data": {
      "text/plain": [
       "'https://www.gov.br/planalto/pt-br/acompanhe-o-planalto/pronunciamentos/pronunciamentos-do-presidente-da-republica/pronunciamento-do-presidente-da-republica-jair-bolsonaro-em-cadeia-de-radio-e-televisao-brasilia-df'"
      ]
     },
     "metadata": {},
     "execution_count": 16
    }
   ],
   "source": [
    "url[\"href\"]"
   ]
  },
  {
   "cell_type": "code",
   "execution_count": 17,
   "metadata": {},
   "outputs": [
    {
     "output_type": "execute_result",
     "data": {
      "text/plain": [
       "('20/02/2019', '20h53')"
      ]
     },
     "metadata": {},
     "execution_count": 17
    }
   ],
   "source": [
    "date = datetime[0].text.strip()\n",
    "time = datetime[1].text.strip()\n",
    "(date, time)"
   ]
  },
  {
   "cell_type": "code",
   "execution_count": 18,
   "metadata": {},
   "outputs": [
    {
     "output_type": "execute_result",
     "data": {
      "text/plain": [
       "('20210323', '20h34', [])"
      ]
     },
     "metadata": {},
     "execution_count": 18
    }
   ],
   "source": [
    "(p.date, p.time, p.tags)"
   ]
  },
  {
   "cell_type": "code",
   "execution_count": 19,
   "metadata": {},
   "outputs": [
    {
     "output_type": "stream",
     "name": "stdout",
     "text": [
      "Boa noite,\nEstamos no momento de uma nova variante do coronavírus, que infelizmente tem tirado a vida de muitos brasileiros.\nDesde o começo, eu disse que tínhamos dois grandes desafios: o vírus e o desemprego. E, em nenhum momento, o governo deixou de tomar medidas importantes tanto para combater o coronavírus como para combater o caos na economia, que poderia gerar desemprego e fome.\nQuero destacar que hoje somos o quinto país que mais vacinou no mundo. Temos mais de 14 milhões de vacinados e mais de 32 milhões de doses de vacina distribuídas para todos os estados da Federação, graças às ações que tomamos logo no início da pandemia.\nEm julho de 2020, assinamos um acordo com a Universidade Oxford para a produção, na Fiocruz, de 100 milhões de doses da vacina AstraZeneca e liberamos, em agosto, 1 bilhão e 900 milhões de reais.\nEm setembro de 2020, assinamos outro acordo com o consórcio Covax Facility para a produção de 42 milhões de doses. O primeiro lote chegou no domingo passado e já foi distribuído para os estados.\nEm dezembro, liberamos mais 20 bilhões de reais, o que possibilitou a aquisição da Coronavac, através do acordo com o Instituto Butantan.\nSempre afirmei que adotaríamos qualquer vacina, desde que aprovada pela Anvisa. E assim foi feito.\nHoje, somos produtores de vacina em território nacional. Mais do que isso, fabricaremos o próprio insumo farmacêutico ativo, que é a matéria-prima necessária. Em poucos meses, seremos autossuficientes na produção de vacinas. Não sabemos por quanto tempo teremos que enfrentar essa doença, mas a produção nacional vai garantir que possamos vacinar os brasileiros todos os anos, independentemente das variantes que possam surgir.\nNeste mês, intercedi pessoalmente junto à fabricante Pfizer para a antecipação de 100 milhões de doses, que serão entregues até setembro de 2021. E também com a Janssen, garantindo 38 milhões de doses para este ano.\nQuero tranquilizar o povo brasileiro e afirmar que as vacinas estão garantidas.\nAo final do ano, teremos alcançado mais de 500 milhões de doses para vacinar toda a população. Muito em breve, retomaremos nossa vida normal.\nSolidarizo-me com todos aqueles que tiveram perdas em suas famílias. Que Deus conforte seus corações!\nEstamos fazendo e vamos fazer de 2021 o ano da vacinação dos brasileiros.\nSomos incansáveis na luta contra o coronavírus. Essa é a missão e vamos cumpri-la.\nDeus abençoe o nosso Brasil.\n"
     ]
    }
   ],
   "source": [
    "print(p.text)"
   ]
  }
 ]
}